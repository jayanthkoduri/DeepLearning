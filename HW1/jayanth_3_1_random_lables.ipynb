{
 "cells": [
  {
   "cell_type": "code",
   "execution_count": 1,
   "id": "9cdb2637",
   "metadata": {},
   "outputs": [],
   "source": [
    "import numpy as np\n",
    "import torch\n",
    "from torchvision import datasets, transforms\n",
    "from torch.utils.data import DataLoader\n",
    "import torch.nn as nn\n",
    "import torch.optim as optim\n",
    "import matplotlib.pyplot as plt"
   ]
  },
  {
   "cell_type": "code",
   "execution_count": 2,
   "id": "809cbb4e",
   "metadata": {},
   "outputs": [],
   "source": [
    "# Data preparation with random labels\n",
    "def prepare_data_with_random_labels():\n",
    "    transform = transforms.ToTensor()\n",
    "    train_data = datasets.MNIST(root='data', train=True, download=True, transform=transform)\n",
    "    test_data = datasets.MNIST(root='data', train=False, download=True, transform=transform)\n",
    "    \n",
    "    # Assign random labels\n",
    "    train_data.targets = torch.randint(0, 10, (len(train_data.targets),))\n",
    "    test_data.targets = torch.randint(0, 10, (len(test_data.targets),))\n",
    "    \n",
    "    return DataLoader(train_data, batch_size=25, shuffle=True), DataLoader(test_data, batch_size=25, shuffle=False)"
   ]
  },
  {
   "cell_type": "code",
   "execution_count": 3,
   "id": "d7d2d49d",
   "metadata": {},
   "outputs": [
    {
     "name": "stdout",
     "output_type": "stream",
     "text": [
      "Downloading http://yann.lecun.com/exdb/mnist/train-images-idx3-ubyte.gz\n",
      "Downloading http://yann.lecun.com/exdb/mnist/train-images-idx3-ubyte.gz to data/MNIST/raw/train-images-idx3-ubyte.gz\n"
     ]
    },
    {
     "name": "stderr",
     "output_type": "stream",
     "text": [
      "100%|███████████████████████████| 9912422/9912422 [00:00<00:00, 54801001.29it/s]\n"
     ]
    },
    {
     "name": "stdout",
     "output_type": "stream",
     "text": [
      "Extracting data/MNIST/raw/train-images-idx3-ubyte.gz to data/MNIST/raw\n",
      "\n",
      "Downloading http://yann.lecun.com/exdb/mnist/train-labels-idx1-ubyte.gz\n",
      "Downloading http://yann.lecun.com/exdb/mnist/train-labels-idx1-ubyte.gz to data/MNIST/raw/train-labels-idx1-ubyte.gz\n"
     ]
    },
    {
     "name": "stderr",
     "output_type": "stream",
     "text": [
      "100%|███████████████████████████████| 28881/28881 [00:00<00:00, 49706891.19it/s]\n"
     ]
    },
    {
     "name": "stdout",
     "output_type": "stream",
     "text": [
      "Extracting data/MNIST/raw/train-labels-idx1-ubyte.gz to data/MNIST/raw\n",
      "\n",
      "Downloading http://yann.lecun.com/exdb/mnist/t10k-images-idx3-ubyte.gz\n",
      "Downloading http://yann.lecun.com/exdb/mnist/t10k-images-idx3-ubyte.gz to data/MNIST/raw/t10k-images-idx3-ubyte.gz\n"
     ]
    },
    {
     "name": "stderr",
     "output_type": "stream",
     "text": [
      "100%|███████████████████████████| 1648877/1648877 [00:00<00:00, 18407133.53it/s]\n"
     ]
    },
    {
     "name": "stdout",
     "output_type": "stream",
     "text": [
      "Extracting data/MNIST/raw/t10k-images-idx3-ubyte.gz to data/MNIST/raw\n",
      "\n",
      "Downloading http://yann.lecun.com/exdb/mnist/t10k-labels-idx1-ubyte.gz\n",
      "Downloading http://yann.lecun.com/exdb/mnist/t10k-labels-idx1-ubyte.gz to data/MNIST/raw/t10k-labels-idx1-ubyte.gz\n"
     ]
    },
    {
     "name": "stderr",
     "output_type": "stream",
     "text": [
      "100%|██████████████████████████████████| 4542/4542 [00:00<00:00, 4511136.34it/s]\n"
     ]
    },
    {
     "name": "stdout",
     "output_type": "stream",
     "text": [
      "Extracting data/MNIST/raw/t10k-labels-idx1-ubyte.gz to data/MNIST/raw\n",
      "\n"
     ]
    }
   ],
   "source": [
    "train_loader, test_loader = prepare_data_with_random_labels()"
   ]
  },
  {
   "cell_type": "code",
   "execution_count": 4,
   "id": "a2d0129e",
   "metadata": {},
   "outputs": [],
   "source": [
    "# Neural Network Definition\n",
    "class DeepNet(nn.Module):\n",
    "    def __init__(self):\n",
    "        super(DeepNet, self).__init__()\n",
    "        self.flatten = nn.Flatten()\n",
    "        self.layer1 = nn.Linear(28*28, 512)\n",
    "        self.layer2 = nn.Linear(512, 256)\n",
    "        self.layer3 = nn.Linear(256, 128)\n",
    "        self.out_layer = nn.Linear(128, 10)\n",
    "\n",
    "    def forward(self, x):\n",
    "        x = self.flatten(x)\n",
    "        x = torch.relu(self.layer1(x))\n",
    "        x = torch.relu(self.layer2(x))\n",
    "        x = torch.relu(self.layer3(x))\n",
    "        x = self.out_layer(x)\n",
    "        return x"
   ]
  },
  {
   "cell_type": "code",
   "execution_count": 5,
   "id": "7d49d3ef",
   "metadata": {},
   "outputs": [],
   "source": [
    "model = DeepNet()\n",
    "optimizer = optim.Adam(model.parameters(), lr=0.001)\n",
    "criterion = nn.CrossEntropyLoss()"
   ]
  },
  {
   "cell_type": "code",
   "execution_count": 6,
   "id": "ea33b9c6",
   "metadata": {},
   "outputs": [],
   "source": [
    "# Training the model\n",
    "def train_model(epochs, train_loader):\n",
    "    model.train()\n",
    "    for epoch in range(epochs):\n",
    "        for images, labels in train_loader:\n",
    "            optimizer.zero_grad()\n",
    "            outputs = model(images)\n",
    "            loss = criterion(outputs, labels)\n",
    "            loss.backward()\n",
    "            optimizer.step()"
   ]
  },
  {
   "cell_type": "code",
   "execution_count": 7,
   "id": "52200afd",
   "metadata": {},
   "outputs": [],
   "source": [
    "# Evaluating the model\n",
    "def evaluate_model(loader):\n",
    "    model.eval()\n",
    "    total_loss = 0\n",
    "    with torch.no_grad():\n",
    "        for images, labels in loader:\n",
    "            outputs = model(images)\n",
    "            loss = criterion(outputs, labels)\n",
    "            total_loss += loss.item()\n",
    "    return total_loss / len(loader)"
   ]
  },
  {
   "cell_type": "code",
   "execution_count": 8,
   "id": "3e6126f3",
   "metadata": {},
   "outputs": [],
   "source": [
    "# Main Training and Evaluation\n",
    "EPOCHS = 30\n",
    "train_losses, test_losses = [], []"
   ]
  },
  {
   "cell_type": "code",
   "execution_count": 9,
   "id": "8eabe6ed",
   "metadata": {},
   "outputs": [
    {
     "name": "stdout",
     "output_type": "stream",
     "text": [
      "Epoch 1, Train Loss: 2.3025075111786526, Test Loss: 2.3029603493213653\n",
      "Epoch 2, Train Loss: 2.3025140731533367, Test Loss: 2.3025108188390733\n",
      "Epoch 3, Train Loss: 2.3029433526595433, Test Loss: 2.303349104523659\n",
      "Epoch 4, Train Loss: 2.3024778842926024, Test Loss: 2.3024664264917374\n",
      "Epoch 5, Train Loss: 2.3024665253361065, Test Loss: 2.3025097244977952\n",
      "Epoch 6, Train Loss: 2.3022930211822192, Test Loss: 2.3025485396385195\n",
      "Epoch 7, Train Loss: 2.302327994406223, Test Loss: 2.302392420768738\n",
      "Epoch 8, Train Loss: 2.3018117934465407, Test Loss: 2.3025864040851594\n",
      "Epoch 9, Train Loss: 2.301523773173491, Test Loss: 2.302604927420616\n",
      "Epoch 10, Train Loss: 2.301299853126208, Test Loss: 2.302877305150032\n",
      "Epoch 11, Train Loss: 2.300911973118782, Test Loss: 2.3027399891614913\n",
      "Epoch 12, Train Loss: 2.3000842891136806, Test Loss: 2.3029780346155166\n",
      "Epoch 13, Train Loss: 2.2979860480626426, Test Loss: 2.3049910390377044\n",
      "Epoch 14, Train Loss: 2.2978948027888935, Test Loss: 2.303912308216095\n",
      "Epoch 15, Train Loss: 2.296279020309448, Test Loss: 2.3064948242902754\n",
      "Epoch 16, Train Loss: 2.2943572666247687, Test Loss: 2.309421871304512\n",
      "Epoch 17, Train Loss: 2.2925902581214905, Test Loss: 2.3147646123170853\n",
      "Epoch 18, Train Loss: 2.2896801909804343, Test Loss: 2.3120790731906893\n",
      "Epoch 19, Train Loss: 2.286090550025304, Test Loss: 2.3169129663705825\n",
      "Epoch 20, Train Loss: 2.2835533745090166, Test Loss: 2.3170258343219756\n",
      "Epoch 21, Train Loss: 2.2791376233100893, Test Loss: 2.3240399020910263\n",
      "Epoch 22, Train Loss: 2.2761259775360427, Test Loss: 2.323460565209389\n",
      "Epoch 23, Train Loss: 2.2723034118612606, Test Loss: 2.32475161254406\n",
      "Epoch 24, Train Loss: 2.266611877679825, Test Loss: 2.3312883603572847\n",
      "Epoch 25, Train Loss: 2.2662485099832215, Test Loss: 2.3464427471160887\n",
      "Epoch 26, Train Loss: 2.257630041440328, Test Loss: 2.3371070647239685\n",
      "Epoch 27, Train Loss: 2.2513525812824566, Test Loss: 2.354686372280121\n",
      "Epoch 28, Train Loss: 2.2474002053340274, Test Loss: 2.343709085583687\n",
      "Epoch 29, Train Loss: 2.2416165470083556, Test Loss: 2.355250282883644\n",
      "Epoch 30, Train Loss: 2.235957707464695, Test Loss: 2.361439887881279\n"
     ]
    }
   ],
   "source": [
    "for epoch in range(EPOCHS):\n",
    "    train_model(1, train_loader)\n",
    "    train_loss = evaluate_model(train_loader)\n",
    "    test_loss = evaluate_model(test_loader)\n",
    "    train_losses.append(train_loss)\n",
    "    test_losses.append(test_loss)\n",
    "    print(f'Epoch {epoch+1}, Train Loss: {train_loss}, Test Loss: {test_loss}')"
   ]
  },
  {
   "cell_type": "code",
   "execution_count": 10,
   "id": "024b3c98",
   "metadata": {},
   "outputs": [
    {
     "data": {
      "image/png": "[encoded data removed]",
      "text/plain": [
       "<Figure size 1000x600 with 1 Axes>"
      ]
     },
     "metadata": {},
     "output_type": "display_data"
    }
   ],
   "source": [
    "# Plotting the losses\n",
    "plt.figure(figsize=(10, 6))\n",
    "plt.plot(train_losses, label='Training Loss')\n",
    "plt.plot(test_losses, label='Test Loss')\n",
    "plt.xlabel('Epochs')\n",
    "plt.ylabel('Loss')\n",
    "plt.title('Training and Test Loss Across Epochs')\n",
    "plt.legend()\n",
    "plt.show()"
   ]
  }
 ],
 "metadata": {
  "kernelspec": {
   "display_name": "Python 3 (ipykernel)",
   "language": "python",
   "name": "python3"
  },
  "language_info": {
   "codemirror_mode": {
    "name": "ipython",
    "version": 3
   },
   "file_extension": ".py",
   "mimetype": "text/x-python",
   "name": "python",
   "nbconvert_exporter": "python",
   "pygments_lexer": "ipython3",
   "version": "3.11.5"
  }
 },
 "nbformat": 4,
 "nbformat_minor": 5
}
